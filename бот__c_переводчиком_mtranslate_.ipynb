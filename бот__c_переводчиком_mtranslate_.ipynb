{
  "cells": [
    {
      "cell_type": "code",
      "execution_count": 1,
      "metadata": {
        "colab": {
          "base_uri": "https://localhost:8080/"
        },
        "id": "bio_i1EXauN3",
        "outputId": "df08b602-f168-4b08-918f-76a1b9e14fc2"
      },
      "outputs": [
        {
          "name": "stdout",
          "output_type": "stream",
          "text": [
            "Requirement already satisfied: pytelegrambotapi in c:\\users\\vasyatka\\appdata\\local\\programs\\python\\python311\\lib\\site-packages (4.12.0)\n",
            "Requirement already satisfied: requests in c:\\users\\vasyatka\\appdata\\local\\programs\\python\\python311\\lib\\site-packages (from pytelegrambotapi) (2.31.0)\n",
            "Requirement already satisfied: charset-normalizer<4,>=2 in c:\\users\\vasyatka\\appdata\\local\\programs\\python\\python311\\lib\\site-packages (from requests->pytelegrambotapi) (3.2.0)\n",
            "Requirement already satisfied: idna<4,>=2.5 in c:\\users\\vasyatka\\appdata\\local\\programs\\python\\python311\\lib\\site-packages (from requests->pytelegrambotapi) (2.10)\n",
            "Requirement already satisfied: urllib3<3,>=1.21.1 in c:\\users\\vasyatka\\appdata\\local\\programs\\python\\python311\\lib\\site-packages (from requests->pytelegrambotapi) (2.0.4)\n",
            "Requirement already satisfied: certifi>=2017.4.17 in c:\\users\\vasyatka\\appdata\\local\\programs\\python\\python311\\lib\\site-packages (from requests->pytelegrambotapi) (2023.5.7)\n",
            "Note: you may need to restart the kernel to use updated packages.\n"
          ]
        },
        {
          "name": "stderr",
          "output_type": "stream",
          "text": [
            "\n",
            "[notice] A new release of pip is available: 23.1.2 -> 23.2.1\n",
            "[notice] To update, run: python.exe -m pip install --upgrade pip\n"
          ]
        }
      ],
      "source": [
        "pip install pytelegrambotapi"
      ]
    },
    {
      "cell_type": "code",
      "execution_count": 2,
      "metadata": {
        "colab": {
          "base_uri": "https://localhost:8080/"
        },
        "id": "J_m_1767avAJ",
        "outputId": "b9852f71-f26d-43ca-a7cf-34543bc21c44"
      },
      "outputs": [
        {
          "name": "stdout",
          "output_type": "stream",
          "text": [
            "Requirement already satisfied: mtranslate in c:\\users\\vasyatka\\appdata\\local\\programs\\python\\python311\\lib\\site-packages (1.8)\n",
            "Note: you may need to restart the kernel to use updated packages.\n"
          ]
        },
        {
          "name": "stderr",
          "output_type": "stream",
          "text": [
            "\n",
            "[notice] A new release of pip is available: 23.1.2 -> 23.2.1\n",
            "[notice] To update, run: python.exe -m pip install --upgrade pip\n"
          ]
        }
      ],
      "source": [
        "pip install mtranslate"
      ]
    },
    {
      "cell_type": "code",
      "execution_count": 3,
      "metadata": {
        "id": "0o5PujSaau1x"
      },
      "outputs": [],
      "source": [
        "import telebot\n",
        "import requests\n",
        "from mtranslate import translate  # Импорт функции перевода из библиотеки mtranslate\n",
        "\n",
        "class NorrisBot:\n",
        "    def __init__(self, token):\n",
        "        # Инициализация бота с заданным токеном\n",
        "        self.bot = telebot.TeleBot(token)\n",
        "        self.register_handlers()  # Регистрация обработчиков команд\n",
        "\n",
        "    def register_handlers(self):\n",
        "        # Обработчик команды /start\n",
        "        @self.bot.message_handler(commands=['start'])\n",
        "        def send_welcome(message):\n",
        "            # Создание интерактивной клавиатуры с категориями\n",
        "            markup = telebot.types.ReplyKeyboardMarkup(resize_keyboard=True)\n",
        "            categories = [\"/animal\", \"/career\", \"/celebrity\", \"/dev\", \"/fashion\", \"/food\", \"/history\", \"/money\", \"/movie\", \"/music\"]\n",
        "            markup.add(*[telebot.types.KeyboardButton(category) for category in categories])\n",
        "            # Отправка приветственного сообщения с клавиатурой\n",
        "            self.bot.reply_to(message, \"Привет! Я бот с шутками Чака Норриса. Выбери категорию шутки:\", reply_markup=markup)\n",
        "\n",
        "        # Обработчик команд, начинающихся с /\n",
        "        @self.bot.message_handler(func=lambda message: message.text.startswith('/'))\n",
        "        def get_joke_by_category(message):\n",
        "            category = message.text[1:]  # Извлечение категории из сообщения (/category)\n",
        "            response = requests.get(f'https://api.chucknorris.io/jokes/random?category={category}')\n",
        "            if response.status_code == 200:\n",
        "                joke = response.json()['value']  # Извлечение шутки из ответа API\n",
        "                translated_joke = self.translate_to_russian(joke)  # Перевод шутки\n",
        "                self.bot.reply_to(message, translated_joke)  # Отправка переведенной шутки\n",
        "            else:\n",
        "                self.bot.reply_to(message, \"Извините, не удалось получить шутку. Попробуйте позже.\")\n",
        "\n",
        "        # Обработчик всех остальных сообщений\n",
        "        @self.bot.message_handler(func=lambda message: True)\n",
        "        def echo_all(message):\n",
        "            # Ответ на все остальные сообщения\n",
        "            self.bot.reply_to(message, \"Извините, я могу отвечать только на выбранные категории шуток. Для продолжения нажмите /start.\")\n",
        "\n",
        "    def translate_to_russian(self, text):\n",
        "        translated = translate(text, 'ru')  # Перевод текста на русский\n",
        "        return translated\n",
        "\n",
        "    def start(self):\n",
        "        self.bot.polling()  # Запуск бота\n",
        "\n",
        "bot = NorrisBot('YOU TOKEN')\n",
        "bot.start()"
      ]
    }
  ],
  "metadata": {
    "colab": {
      "provenance": []
    },
    "kernelspec": {
      "display_name": "Python 3",
      "name": "python3"
    },
    "language_info": {
      "codemirror_mode": {
        "name": "ipython",
        "version": 3
      },
      "file_extension": ".py",
      "mimetype": "text/x-python",
      "name": "python",
      "nbconvert_exporter": "python",
      "pygments_lexer": "ipython3",
      "version": "3.11.4"
    }
  },
  "nbformat": 4,
  "nbformat_minor": 0
}
